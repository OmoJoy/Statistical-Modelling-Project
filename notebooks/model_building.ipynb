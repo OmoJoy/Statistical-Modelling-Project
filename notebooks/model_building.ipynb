
    "Build a regression model."
# imports
import pandas as pd
import statsmodels.api as sm

grouped_business_df = pd.read_csv('grouped_business.csv', index_col = 0)
grouped_business_df
Station Name	Average Rating	Average Reviews	Number of Bikes
0	1 Ave & E 110 St	4.375	345.00	24
1	1 Ave & E 16 St	4.375	1545.35	51
2	1 Ave & E 18 St	4.400	1483.45	49
3	1 Ave & E 30 St	4.350	1066.85	35
4	1 Ave & E 62 St	4.300	713.90	31
...	...	...	...	...
995	Wolcott St & Dwight St	4.200	557.20	20
996	Woodward Ave & Harman St	4.350	258.35	16
997	Wyckoff Av & Jefferson St	4.300	311.30	25
998	Wyckoff Av & Stanhope St	4.275	307.90	21
999	Wythe Ave & Metropolitan Ave	4.175	827.80	47
1000 rows × 4 columns

X = grouped_business_df['Number of Bikes']
Y = grouped_business_df['Average Rating']
X = sm.add_constant(X)
lin_model = sm.OLS(y, X).fit()
model = lin_model.summary()
Provide model output and an interpretation of the results.

print(model)
                            OLS Regression Results                            
==============================================================================
Dep. Variable:         Average Rating   R-squared:                       0.032
Model:                            OLS   Adj. R-squared:                  0.031
Method:                 Least Squares   F-statistic:                     32.90
Date:                Wed, 30 Aug 2023   Prob (F-statistic):           1.29e-08
Time:                        13:37:52   Log-Likelihood:                 287.50
No. Observations:                1000   AIC:                            -571.0
Df Residuals:                     998   BIC:                            -561.2
Df Model:                           1                                         
Covariance Type:            nonrobust                                         
===================================================================================
                      coef    std err          t      P>|t|      [0.025      0.975]
-----------------------------------------------------------------------------------
const               4.1246      0.012    355.004      0.000       4.102       4.147
Number of Bikes     0.0019      0.000      5.736      0.000       0.001       0.003
==============================================================================
Omnibus:                      349.681   Durbin-Watson:                   1.201
Prob(Omnibus):                  0.000   Jarque-Bera (JB):             1333.745
Skew:                          -1.648   Prob(JB):                    2.40e-290
Kurtosis:                       7.598   Cond. No.                         69.3
==============================================================================

Notes:
[1] Standard Errors assume that the covariance matrix of the errors is correctly specified.
Interpretation of Results:

R-squared: From the model above, an R-squared value of 0.032 indicates that about 3.2% of the variability in the dependent variable (Average Rating) is explained by the variability in the independent variable (Number of Bikes). Thus, this model does not explain a significant amount og variation in the dependent variable.

P-value: In this model output, the P-values for both the const coefficient and the Number of Bikes coefficient are very small (close to zero). This indicates that they are both statistically significant predictors of the dependent variable, Average Rating.

Coefficient: For this linear regression model, the coefficient for Number of Bikes is approximately 0.0019, suggestitng that on average, a one unit increase in the Number of Bikes correlates with an increase of 0.0019 in the Average Rating.

Conclusion: While we can establish a statistically significant relationship between the independent and dependent variables, it is also worthy to note that the relationship between them is quite weak as evidenced by the low R-squared value.

Stretch
How can you turn the regression model into a classification model?

To convert the regression model into a classification model, I will first define which attritube I am trying to predict. Next, I'll work on grouping mu continuous variables into discrete labels to help create the class. Then I'll select an appropriate classification algorithm and afterwards, evaluate my model.
   ]
  },
  {
   "cell_type": "code",
   "execution_count": null,
   "metadata": {},
   "outputs": [],
   "source": []
  },
  {
   "cell_type": "markdown",
   "metadata": {},
   "source": [
    "Provide model output and an interpretation of the results. "
   ]
  },
  {
   "cell_type": "code",
   "execution_count": null,
   "metadata": {},
   "outputs": [],
   "source": []
  },
  {
   "cell_type": "markdown",
   "metadata": {},
   "source": [
    "# Stretch"
   ]
  },
  {
   "cell_type": "markdown",
   "metadata": {},
   "source": [
    "How can you turn the regression model into a classification model?"
   ]
  },
  {
   "cell_type": "code",
   "execution_count": null,
   "metadata": {},
   "outputs": [],
   "source": []
  }
 ],
 "metadata": {
  "kernelspec": {
   "display_name": "Python 3",
   "language": "python",
   "name": "python3"
  },
  "language_info": {
   "codemirror_mode": {
    "name": "ipython",
    "version": 3
   },
   "file_extension": ".py",
   "mimetype": "text/x-python",
   "name": "python",
   "nbconvert_exporter": "python",
   "pygments_lexer": "ipython3",
   "version": "3.8.5"
  }
 },
 "nbformat": 4,
 "nbformat_minor": 4
}
